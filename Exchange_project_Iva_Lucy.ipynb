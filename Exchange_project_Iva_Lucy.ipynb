{
 "cells": [
  {
   "cell_type": "markdown",
   "id": "7c39bb0a",
   "metadata": {},
   "source": [
    "# KONVERZE MĚN KČ, USD, EUR, PLN A GBP"
   ]
  },
  {
   "cell_type": "markdown",
   "id": "6f911b79",
   "metadata": {},
   "source": [
    "Program bude provádět měnové konverze mezi Kč a vybranými měnami (USD, EUR, GBP A PLN) a může tak činit opakovaně, dokud uživatel chce pokračovat.\n",
    "Uživatel zadá požadovanou měnu a částku, kterou chce převést a program vypočítá a zobrazí pouze výsledek pro danou měnu. Pokud uživatel zadá měnu, která není v nabídce, program to ohlásí a nabídne znovu měny, z které si může uživatel vybrat. \n"
   ]
  },
  {
   "cell_type": "markdown",
   "id": "3f46e8cb",
   "metadata": {},
   "source": [
    "# Program bude vytvářen postupně a poté dán dohromady jako celek."
   ]
  },
  {
   "cell_type": "markdown",
   "id": "9f1e339b",
   "metadata": {},
   "source": [
    "##  1. část programu: Zadej částku v Kč, kterou chceš směnit v naší směnárně na eura, vypočítej a poté převeď výpočet do funkce."
   ]
  },
  {
   "cell_type": "markdown",
   "id": "2e46c8be",
   "metadata": {},
   "source": [
    "1. Napsat k čemu program slouží.\n",
    "2. Zápis vstupní proměnné \"vstup_kc\" jako číslo.\n",
    "3. Zobrazit vstupní hodnotu.\n",
    "4. Výpočet částky v eurech podle kurzu.\n",
    "5. Zobrazit vypočítané částky (výstupní hodnota).\n",
    "6. Převod výpočtu do funkce.\n",
    "7. Výstup funkce a zaokrouhlení na 2 desetinná místa.\n",
    "8. **Doplnit program místo ______.**"
   ]
  },
  {
   "cell_type": "markdown",
   "id": "7534023a",
   "metadata": {},
   "source": [
    "1. Napsat k čemu program slouží."
   ]
  },
  {
   "cell_type": "code",
   "execution_count": 1,
   "id": "283ba757",
   "metadata": {},
   "outputs": [
    {
     "name": "stdout",
     "output_type": "stream",
     "text": [
      "Vítejte ve směnárně, která vám převede zadanou hodnotu v Kč na Eura.\n"
     ]
    }
   ],
   "source": [
    "print(\"Vítejte ve směnárně, která vám převede zadanou hodnotu v Kč na Eura.\")"
   ]
  },
  {
   "cell_type": "markdown",
   "id": "e80e1b62",
   "metadata": {},
   "source": [
    "2. Zápis vstupní proměnné \"vstup_kc\" jako celé číslo."
   ]
  },
  {
   "cell_type": "code",
   "execution_count": 2,
   "id": "1b10465f",
   "metadata": {},
   "outputs": [
    {
     "name": "stdout",
     "output_type": "stream",
     "text": [
      "Zadejte částku v Kč: 500\n"
     ]
    }
   ],
   "source": [
    "vstup_kc = int(input(\"Zadejte částku v Kč: \"))"
   ]
  },
  {
   "cell_type": "markdown",
   "id": "e4f15900",
   "metadata": {},
   "source": [
    "3. Zadaná částka se nezobrazí jako výstup, protože ještě nebyla volána funkce print. Zavoláme tedy funkci print se jménem vstupní proměnné doplněné místo ______."
   ]
  },
  {
   "cell_type": "code",
   "execution_count": 4,
   "id": "3561ed5d",
   "metadata": {},
   "outputs": [
    {
     "name": "stdout",
     "output_type": "stream",
     "text": [
      "500\n"
     ]
    }
   ],
   "source": [
    "print(______) "
   ]
  },
  {
   "cell_type": "markdown",
   "id": "9dab9c89",
   "metadata": {},
   "source": [
    "4. Zadaná hodnota bude převedena na eura. Kurz eura je 24.648 Kč a vypišeme výstup."
   ]
  },
  {
   "cell_type": "code",
   "execution_count": 5,
   "id": "ed99c81a",
   "metadata": {},
   "outputs": [],
   "source": [
    "kurz_eur = ______\n",
    "vystup = vstup_kc/kurz_eur"
   ]
  },
  {
   "cell_type": "markdown",
   "id": "ad8289bf",
   "metadata": {},
   "source": [
    "5. Výstup vyvoláme opět funkcí print."
   ]
  },
  {
   "cell_type": "code",
   "execution_count": 6,
   "id": "eef196cc",
   "metadata": {},
   "outputs": [
    {
     "name": "stdout",
     "output_type": "stream",
     "text": [
      "20.285621551444336\n"
     ]
    }
   ],
   "source": [
    "______(vystup)"
   ]
  },
  {
   "cell_type": "markdown",
   "id": "89773d93",
   "metadata": {},
   "source": [
    "**Z předchozích údajů zapiš program jako celek:**"
   ]
  },
  {
   "cell_type": "code",
   "execution_count": null,
   "id": "0a2866e9",
   "metadata": {},
   "outputs": [],
   "source": [
    "#Napiš celý program zde"
   ]
  },
  {
   "attachments": {
    "1_cast.PNG": {
     "image/png": "[encoded data removed]"
    }
   },
   "cell_type": "markdown",
   "id": "a33b7106",
   "metadata": {},
   "source": [
    "### Výstup:\n",
    "**Takto může vypadat výstup daného programu.**\n",
    "![1_cast.PNG](attachment:1_cast.PNG)"
   ]
  },
  {
   "cell_type": "markdown",
   "id": "6b55c664",
   "metadata": {},
   "source": [
    "6. Převod výpočtu do funkce. Zapiš název funkce, který je preved_kc."
   ]
  },
  {
   "cell_type": "code",
   "execution_count": null,
   "id": "320be264",
   "metadata": {},
   "outputs": [],
   "source": [
    "def ______(castka, kurz):\n",
    "    return castka/kurz"
   ]
  },
  {
   "cell_type": "markdown",
   "id": "a9f2fc69",
   "metadata": {},
   "source": [
    "7. Výstup funkce a zaokrouhlení na 2 desetinná místa."
   ]
  },
  {
   "cell_type": "code",
   "execution_count": null,
   "id": "51d42cbb",
   "metadata": {},
   "outputs": [],
   "source": [
    "print(\"{0} Kč je {1:.2f} EUR.\".format(vstup_kc, preved_kc(vstup_kc, kurz_eur)))"
   ]
  },
  {
   "attachments": {},
   "cell_type": "markdown",
   "id": "3c1dae6d",
   "metadata": {},
   "source": [
    "\n",
    "**Napsání celého programu, kde výpočet je ve funkci:**\n",
    "* Doplň funkci pro výpočet do programu.\n",
    "* Doplň výstup funkce a zaokrouhlení do daného programu."
   ]
  },
  {
   "cell_type": "code",
   "execution_count": null,
   "id": "72949206",
   "metadata": {},
   "outputs": [],
   "source": [
    "print(\"Vítejte ve směnárně, která vám převede zadanou hodnotu v Kč na Eura.\")\n",
    "\n",
    "#funkce pro výpočet\n",
    "______\n",
    "    ______\n",
    "    \n",
    "kurz_eur = 24.648 #definice pomocných proměnných s kurzy\n",
    "vstup_kc = int(input(\"Zadejte částku v Kč: \")) #vstup částky v Kč\n",
    "\n",
    "#výstup funkce a zaokrouhlení na 2 desetinná místa\n",
    "______"
   ]
  },
  {
   "attachments": {
    "1_cast_funkce.PNG": {
     "image/png": "[encoded data removed]"
    }
   },
   "cell_type": "markdown",
   "id": "4eb18aca",
   "metadata": {},
   "source": [
    "### Výstup:\n",
    "**Takto může vypadat výstup daného programu.**\n",
    "![1_cast_funkce.PNG](attachment:1_cast_funkce.PNG)"
   ]
  },
  {
   "cell_type": "markdown",
   "id": "528f5f71",
   "metadata": {},
   "source": [
    "##  2. část programu: Vytvoř další části programu tedy převod na USD, GBP a PLN."
   ]
  },
  {
   "cell_type": "markdown",
   "id": "c7674812",
   "metadata": {},
   "source": [
    "1. Změň co program bude dělat, tedy k čemu slouží.\n",
    "2. Do již vytovřeného programu **vlož další hodnoty a to měnové kurzy pro USD, GBP a PLN.**\n",
    "3. **Zapsat výstup pro všechny 4 měny. Opět zaokrouhli na 2 desetinná místa.**\n",
    "4. Použít kurz, který je zde napsaný a tedy **kurz pro USD je 23.419, pro GBP je 28.266 a PLN je 5.534.**"
   ]
  },
  {
   "cell_type": "markdown",
   "id": "97aeee57",
   "metadata": {},
   "source": [
    "1. Změň co program bude dělat, tedy k čemu slouží.\n",
    "2. Zapiš další měnu."
   ]
  },
  {
   "cell_type": "code",
   "execution_count": null,
   "id": "760f041d",
   "metadata": {},
   "outputs": [],
   "source": [
    "print(\"Vítejte ve směnárně! Můžete si vybrat z těchto měn: EUR, ______\")"
   ]
  },
  {
   "cell_type": "markdown",
   "id": "b7d19f36",
   "metadata": {},
   "source": [
    "3. Do již vytovřeného programu **vlož další hodnoty a to měnové kurzy pro USD, GBP a PLN místo ______.**\n",
    "4. **Zapíš výstup místo ______ pro další 3 měny. Opět zaokrouhli na 2 desetinná místa.**"
   ]
  },
  {
   "cell_type": "code",
   "execution_count": null,
   "id": "eaf182e7",
   "metadata": {},
   "outputs": [],
   "source": [
    "print(\"Vítejte ve směnárně! Můžete si vybrat z těchto měn: EUR, ______\")\n",
    "\n",
    "def preved_kc(castka, kurz): #funkce pro výpočet\n",
    "    return castka/kurz\n",
    "\n",
    "#definice pomocných proměnných s kurzy\n",
    "kurz_eur = 24.648\n",
    "______\n",
    "______\n",
    "______\n",
    "\n",
    "\n",
    "vstup_kc = int(input(\"Zadejte částku v Kč: \")) #vstup částky v Kč\n",
    "\n",
    "#výstup funkce a zaokrouhlení na 2 desetinná místa\n",
    "______\n",
    "______\n",
    "______\n",
    "______"
   ]
  },
  {
   "attachments": {
    "2_cast_vice_men.PNG": {
     "image/png": "[encoded data removed]"
    }
   },
   "cell_type": "markdown",
   "id": "b24f9687",
   "metadata": {},
   "source": [
    "### Výstup:\n",
    "**Takto může vypadat výstup daného programu.**\n",
    "![2_cast_vice_men.PNG](attachment:2_cast_vice_men.PNG)"
   ]
  },
  {
   "cell_type": "markdown",
   "id": "bd5099b8",
   "metadata": {},
   "source": [
    "## 3. část programu:  Vylepši program v python tak, že po zadání měny uživatelem se provede výpočet podle zvolené měny, namísto výpisu pro všechny měny. Uživatel má na výběr pouze ze čtyř měn a to usd, pln, gbp a eur. Dopiš funkci, která toto zajistí."
   ]
  },
  {
   "cell_type": "markdown",
   "id": "7c146afc",
   "metadata": {},
   "source": [
    "1. Zadat vstupní hodnotu v Kč opět jako vstup_kc, ale tentokrát **Budou zadávány i částky s desetinným místem.**\n",
    "2. **Zadat vstupní hodnotu měnu jako vstup_mena.** Měna bude ve formátu text.\n",
    "3. **U vstupních hodnot ošetřit malá a velká písmena.** Uživatel může zadat malá i velká písmena a program bude funkční. Např. když uživatel zadá usd nebo USD, potom se vstupní hodnota převede podle kurz_usd.\n",
    "4. Při zadání měny, která není ve směnárně napsat \"Omlouváme se, ale tuto měnu nemáme k dispozici\" "
   ]
  },
  {
   "attachments": {
    "3_cast_vice_men.PNG": {
     "image/png": "[encoded data removed]"
    }
   },
   "cell_type": "markdown",
   "id": "527f1fc2",
   "metadata": {},
   "source": [
    "V této verzi, když uživatel zadá požadovanou měnu, program vypočítá a zobrazí pouze výsledek pro tu danou měnu. Pokud uživatel zadá měnu, která není v nabídce, program to ohlásí.\n",
    "### Výstup:\n",
    "**Takto může vypadat výstup daného programu.**\n",
    "![3_cast_vice_men.PNG](attachment:3_cast_vice_men.PNG)"
   ]
  },
  {
   "cell_type": "code",
   "execution_count": null,
   "id": "72b5f736",
   "metadata": {},
   "outputs": [],
   "source": [
    "print(\"______\")\n",
    "\n",
    "def preved_kc(castka, kurz):\n",
    "    return castka/kurz\n",
    "\n",
    "# Definice kurzů\n",
    "kurz_eur = 24.648\n",
    "kurz_usd = 23.419\n",
    "kurz_gbp = 28.266\n",
    "kurz_pln = 5.534\n",
    "\n",
    "vstup_kc = ______(input(\"Zadejte částku v Kč: \")) # vstup částky v Kč, kdy budou zadány hodnoty i s desetinným místem.\n",
    "________ = ______(input(\"Zadejte měnu, kterou potřebujete z naší směnárny (EUR, USD, GBP, PLN): \")) # ošetřete malá a velká písmena\n",
    "\n",
    "# Rozhodovací struktura pro určení výpočtu dle zvolené měny\n",
    "if vstup_mena == \"EUR\":\n",
    "    print(\"{0} Kč je {1:.2f} EUR.\".format(vstup_kc, preved_kc(vstup_kc, kurz_eur)))\n",
    "______\n",
    "    ______\n",
    "______\n",
    "    ______\n",
    "______\n",
    "    ______\n",
    "______\n",
    "    ______"
   ]
  },
  {
   "cell_type": "markdown",
   "id": "fe1f6db2",
   "metadata": {},
   "source": [
    "## 4. část programu: Uživatel mění z jiné měny (EUR, USD, GBP, PLN) na Kč. V tomto upraveném kódu, pokud uživatel zvolí špatnou měnu, program hned vypíše chybovou zprávu a ukončí se. Pokud uživatel zvolí správnou měnu, program se zeptá na částku a provede konverzi."
   ]
  },
  {
   "attachments": {
    "4_cast.PNG": {
     "image/png": "[encoded data removed]"
    }
   },
   "cell_type": "markdown",
   "id": "f228b0b0",
   "metadata": {},
   "source": [
    "1. Doplnit funkci pro převod měn.\n",
    "2. Napsat definici kurzů jako **kurz_zpet_eur = ...** pro euro atd. **Definice kurzů:** EUR = 24.621. USD = 23.256, PLN = 5.514, GBP = 28.279\n",
    "3. Pokud měna není k dispozici napsat \"Omlouváme se, ale tuto měnu nyní nemáme k dispozici.\"\n",
    "4. Dopsat vstupní částku. Částka nemusí být celé číslo.\n",
    "5. Doplnit rozhodovací strukturu pro určení výpočtu dle zvolené měny.\n",
    "\n",
    "### Výstup:\n",
    "**Takto může vypadat výstup daného programu.**\n",
    "![4_cast.PNG](attachment:4_cast.PNG)"
   ]
  },
  {
   "cell_type": "code",
   "execution_count": 1,
   "id": "9bb58929",
   "metadata": {},
   "outputs": [
    {
     "ename": "SyntaxError",
     "evalue": "unmatched ')' (2212459066.py, line 14)",
     "output_type": "error",
     "traceback": [
      "\u001b[1;36m  Cell \u001b[1;32mIn[1], line 14\u001b[1;36m\u001b[0m\n\u001b[1;33m    vstup_mena = ______(\"Zadejte měnu, kterou chcete směnit na Kč (EUR, USD, GBP, PLN): \"))\u001b[0m\n\u001b[1;37m                                                                                          ^\u001b[0m\n\u001b[1;31mSyntaxError\u001b[0m\u001b[1;31m:\u001b[0m unmatched ')'\n"
     ]
    }
   ],
   "source": [
    "print(\"Vítejte ve směnárně! Můžete si vybrat, kterou z těchto měn (EUR, USD, GBP, PLN) převedete na Kč\")\n",
    "\n",
    "def preved_na_kc(castka, kurz): #funkce pro výpočet\n",
    "    return ______\n",
    "\n",
    "# Definice kurzů pro konverzi zpět do Kč\n",
    "kurz_zpet_eur = 24.621\n",
    "______\n",
    "______\n",
    "______\n",
    "\n",
    "# Rozhodovací struktura pro určení výpočtu dle zvolené měny\n",
    "\n",
    "vstup_mena = ______(\"Zadejte měnu, kterou chcete směnit na Kč (EUR, USD, GBP, PLN): \"))\n",
    "\n",
    "# Kontrola platnosti měny před dotazem na částku\n",
    "if vstup_mena not in [\"EUR\", \"USD\", \"GBP\", \"PLN\"]:\n",
    "    print(\"______\")\n",
    "else:\n",
    "    ______ = ______(input(f\"Zadejte částku v {vstup_mena}: \"))\n",
    "\n",
    "    # Rozhodovací struktura pro určení výpočtu dle zvolené měny\n",
    "    if ______ == \"EUR\":\n",
    "        print(\"{0} EUR je {1:.2f} Kč.\".format(vstup_castka, preved_na_kc(vstup_castka, kurz_zpet_eur)))\n",
    "    ______:\n",
    "        print(\"{0} USD je {1:.2f} Kč.\".format(vstup_castka, preved_na_kc(vstup_castka, kurz_zpet_usd)))\n",
    "    ______:\n",
    "        print(\"{0} GBP je {1:.2f} Kč.\".format(vstup_castka, preved_na_kc(vstup_castka, kurz_zpet_gbp)))\n",
    "    ______:\n",
    "        print(\"{0} PLN je {1:.2f} Kč.\".format(vstup_castka, preved_na_kc(vstup_castka, kurz_zpet_pln)))\n"
   ]
  },
  {
   "cell_type": "markdown",
   "id": "159ab487",
   "metadata": {},
   "source": [
    "## 5. část programu: Spojte oba dva programy dohromady tak, že uživatel si může vybrat jestli chce měnit z kč na další měny nebo naopak."
   ]
  },
  {
   "attachments": {
    "5_cast.PNG": {
     "image/png": "[encoded data removed]"
    }
   },
   "cell_type": "markdown",
   "id": "720456aa",
   "metadata": {},
   "source": [
    "1. Doplň chybějící části programu kde je ______.\n",
    "2. Přidej opakování do programu, jestli uživatel chce po vyměnění jedné měny ještě měnit nebo ne. Doplň chybějící cyklus.\n",
    "2. Uřči která funkce bude potřeba, kdy uživatel si může vybrat jestli chce měnit z kč na další měny nebo naopak.\n",
    "2. Uživatel bude dotázan na tuto otázku \"Chcete měnit z Kč na jinou měnu nebo z jiné měny na Kč? (zadej z/na): \"\n",
    "3. Pokud odpoví z kč na další měny použij definici kurzů z programu, který jsi vytvořil kurz_eur atd.\n",
    "4. Pokud uživatel řekne, že chce měnit z cizí měny na kč použij jako vstup definici kurzů kurz_zpet_eur atd.\n",
    "5. Pokud zvolí měnu, která není v nabídce potom se vypíše \"Neplatná volba směru měny.\"\n",
    "\n",
    "### Výstup:\n",
    "**Takto může vypadat výstup daného programu.**\n",
    "![5_cast.PNG](attachment:5_cast.PNG)"
   ]
  },
  {
   "cell_type": "code",
   "execution_count": null,
   "id": "42ab1b15",
   "metadata": {},
   "outputs": [],
   "source": [
    "print(\"Vítejte ve směnárně! Můžete si vybrat z těchto měn: EUR, USD, GBP, PLN\")\n",
    "\n",
    "# Napiš funkci pro výpočet z Kč\n",
    "______\n",
    "    ______\n",
    "\n",
    "# Napiš funkci pro výpočet na Kč\n",
    "______\n",
    "    ______\n",
    "\n",
    "# Doplň definice kurzů\n",
    "______\n",
    "______\n",
    "______\n",
    "______\n",
    "\n",
    "# Doplň definice kurzů pro konverzi zpět do Kč\n",
    "______\n",
    "______\n",
    "______\n",
    "______\n",
    "\n",
    "opakovat = True\n",
    "______ opakovat:\n",
    "    směr_měny = input(\"______\").lower()\n",
    "\n",
    "    spravna_mena = False\n",
    "    ______ not ______:\n",
    "        vstup_mena = str.______(input(\"Zadejte měnu (EUR, USD, GBP, PLN): \"))\n",
    "        if vstup_mena in [\"EUR\", \"USD\", \"GBP\", \"PLN\"]:\n",
    "            spravna_mena = ______\n",
    "        else:\n",
    "            print(\"Omlouváme se, ale tuto měnu nyní nemáme k dispozici.\")\n",
    "\n",
    "    ______ směr_měny == \"z\":\n",
    "        vstup_kc = float(input(\"Zadejte částku v Kč: \"))\n",
    "        ______\n",
    "            ______\n",
    "        ______\n",
    "            ______\n",
    "        ______\n",
    "            ______\n",
    "        ______\n",
    "            ______\n",
    "       \n",
    "\n",
    "\n",
    "    ______ směr_měny == \"na\":\n",
    "        vstup_castka = float(input(f\"Zadejte částku v {vstup_mena}: \"))\n",
    "        ______\n",
    "            ______\n",
    "        ______\n",
    "            ______\n",
    "        ______\n",
    "            ______\n",
    "        ______\n",
    "            ______\n",
    "       \n",
    "    ______:\n",
    "        print(\"______\")\n",
    "\n",
    "    # Zeptat se uživatele, zda chce provést další konverzi\n",
    "    odpoved = input(\"Chcete provést další konverzi? (ano/ne): \").lower()\n",
    "    if odpoved != \"ano\":\n",
    "        opakovat = False"
   ]
  },
  {
   "cell_type": "markdown",
   "id": "3b476139",
   "metadata": {},
   "source": [
    "# Bonus:\n",
    "\n",
    "Měnový kurz je zadán ze stránky https://www.kurzy.cz/kurzy-men/aktualni/\n",
    "\n",
    "**Napiš program tak, aby se při každém spuštění program odkázal na danou stránku a vypsal kurz pro danou měnu, která je aktuální.**"
   ]
  },
  {
   "cell_type": "code",
   "execution_count": null,
   "id": "4c9429fb",
   "metadata": {},
   "outputs": [],
   "source": []
  },
  {
   "cell_type": "code",
   "execution_count": null,
   "id": "dd15b463",
   "metadata": {},
   "outputs": [],
   "source": []
  }
 ],
 "metadata": {
  "kernelspec": {
   "display_name": "Python 3 (ipykernel)",
   "language": "python",
   "name": "python3"
  },
  "language_info": {
   "codemirror_mode": {
    "name": "ipython",
    "version": 3
   },
   "file_extension": ".py",
   "mimetype": "text/x-python",
   "name": "python",
   "nbconvert_exporter": "python",
   "pygments_lexer": "ipython3",
   "version": "3.11.5"
  },
  "widgets": {
   "application/vnd.jupyter.widget-state+json": {
    "state": {},
    "version_major": 2,
    "version_minor": 0
   }
  }
 },
 "nbformat": 4,
 "nbformat_minor": 5
}
